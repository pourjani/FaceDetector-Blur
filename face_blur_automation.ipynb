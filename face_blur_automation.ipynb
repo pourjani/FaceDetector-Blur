{
 "cells": [
  {
   "cell_type": "code",
   "execution_count": 92,
   "id": "b2c179df-424f-4f69-a788-27b21248e363",
   "metadata": {},
   "outputs": [],
   "source": [
    "import numpy as np\n",
    "import cv2"
   ]
  },
  {
   "cell_type": "code",
   "execution_count": 93,
   "id": "4218a6cd-c3bb-4f86-b01e-526481c84013",
   "metadata": {},
   "outputs": [],
   "source": [
    "img = cv2.imread('./faces.jpg')"
   ]
  },
  {
   "cell_type": "code",
   "execution_count": 94,
   "id": "47380d93-9e92-440d-9859-22a35f2436e7",
   "metadata": {},
   "outputs": [],
   "source": [
    "face_detection_model = cv2.dnn.readNetFromCaffe('./model/deploy.prototxt.txt',\n",
    "                                                './model/res10_300x300_ssd_iter_140000_fp16.caffemodel')"
   ]
  },
  {
   "cell_type": "code",
   "execution_count": 95,
   "id": "7a4f16ca-06b2-43db-94ba-4a7e9da434f0",
   "metadata": {},
   "outputs": [],
   "source": [
    "def face_blur(img):\n",
    "    # blob from image\n",
    "    image = img.copy()\n",
    "    # mask image\n",
    "    face_mask = np.zeros(image.shape[:2],dtype='uint8') # 2-d (grayscale)\n",
    "\n",
    "\n",
    "    blob = cv2.dnn.blobFromImage(image,1,(300,300),(104,177,123),swapRB=True)\n",
    "    face_detection_model.setInput(blob)\n",
    "    detections = face_detection_model.forward()\n",
    "\n",
    "    h,w = image.shape[:2]\n",
    "    for i in range(detections.shape[2]):\n",
    "        confidence = detections[0,0,i,2]\n",
    "        if confidence > 0.5:\n",
    "            box = detections[0,0,i,3:7]*np.array([w,h,w,h])\n",
    "            box = box.astype(int)\n",
    "            cv2.rectangle(face_mask,(box[0],box[1]),(box[2],box[3]),255,-1)\n",
    "\n",
    "\n",
    "    inv_face_mask = cv2.bitwise_not(face_mask)\n",
    "    # step-3: apply mask image to original image\n",
    "    bg_img = cv2.bitwise_and(image,image,mask=face_mask)\n",
    "    fg_img = cv2.bitwise_and(image,image,mask=inv_face_mask)\n",
    "    # step-4: Blur bg_img with Gaussian blur\n",
    "    bg_img_blur = cv2.GaussianBlur(bg_img,(51,51),0)\n",
    "    # step-5: addition\n",
    "    face_blur = cv2.add(fg_img,bg_img_blur)\n",
    "    \n",
    "    return face_blur\n",
    "\n",
    "blur_img = face_blur(img)\n",
    "\n",
    "cv2.imshow('original',img)\n",
    "cv2.imshow('Face Blur',blur_img)\n",
    "cv2.waitKey()\n",
    "cv2.destroyAllWindows()"
   ]
  },
  {
   "cell_type": "markdown",
   "id": "478d286b-ffa2-48de-a339-f302fd1f0dd8",
   "metadata": {},
   "source": [
    "# Real time face blur\n",
    "\n"
   ]
  },
  {
   "cell_type": "code",
   "execution_count": 103,
   "id": "4f2d2f51-4014-4bed-9bb7-1c3c52f08166",
   "metadata": {},
   "outputs": [],
   "source": [
    "cap = cv2.VideoCapture(0)\n",
    "\n",
    "while True:\n",
    "    ret, frame = cap.read()\n",
    "    if ret == False:\n",
    "        break\n",
    "\n",
    "    blur_img = face_blur(frame)\n",
    "\n",
    "    cv2.imshow('original', frame)\n",
    "    cv2.imshow('Face Blur', blur_img)\n",
    "\n",
    "    # Exit if ESC key is pressed\n",
    "    if cv2.waitKey(1) == 27:\n",
    "        break\n",
    "\n",
    "cap.release()\n",
    "cv2.destroyAllWindows()"
   ]
  },
  {
   "cell_type": "code",
   "execution_count": null,
   "id": "72b1376f-1a32-46db-8500-533acac1f674",
   "metadata": {},
   "outputs": [],
   "source": []
  },
  {
   "cell_type": "code",
   "execution_count": null,
   "id": "a39affa0-cb2a-4d05-a602-15aa3d54bf43",
   "metadata": {},
   "outputs": [],
   "source": []
  }
 ],
 "metadata": {
  "kernelspec": {
   "display_name": "Python 3 (ipykernel)",
   "language": "python",
   "name": "python3"
  },
  "language_info": {
   "codemirror_mode": {
    "name": "ipython",
    "version": 3
   },
   "file_extension": ".py",
   "mimetype": "text/x-python",
   "name": "python",
   "nbconvert_exporter": "python",
   "pygments_lexer": "ipython3",
   "version": "3.13.3"
  }
 },
 "nbformat": 4,
 "nbformat_minor": 5
}
