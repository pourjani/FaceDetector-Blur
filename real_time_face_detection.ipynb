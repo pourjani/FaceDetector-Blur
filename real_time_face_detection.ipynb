{
 "cells": [
  {
   "cell_type": "markdown",
   "id": "d4029fd6-cb67-45b8-9b5c-35cd755ca371",
   "metadata": {},
   "source": [
    "# Real time face detection\n",
    " This notebook demonstrates a simple real-time face detection application using OpenCV and Haar cascades. We capture a single frame from the webcam, detect faces, and display the result directly within the notebook."
   ]
  },
  {
   "cell_type": "code",
   "execution_count": 1,
   "id": "07ad80f9-1928-4319-848e-eabdcf2b07b0",
   "metadata": {},
   "outputs": [],
   "source": [
    "import numpy as np \n",
    "import cv2"
   ]
  },
  {
   "cell_type": "code",
   "execution_count": 2,
   "id": "ceefeb7f-cd03-4a5c-949f-4ec9e8d6dd29",
   "metadata": {},
   "outputs": [],
   "source": [
    "face_cascade = cv2.CascadeClassifier('./model/haarcascade_frontalface_default.xml') #loading a trained Viola–Jones detector"
   ]
  },
  {
   "cell_type": "code",
   "execution_count": 3,
   "id": "0e898932-0299-431c-a31e-66af53fcee69",
   "metadata": {},
   "outputs": [],
   "source": [
    "def face_detection(img):\n",
    "    \n",
    "    image = img.copy()\n",
    "    img_gray = cv2.cvtColor(img, cv2.COLOR_BGR2GRAY)\n",
    "    \n",
    "    box,detections=face_cascade.detectMultiScale2(img_gray,minNeighbors=8) #detecting faces in a grayscale image using a Haar cascade\n",
    "    \n",
    "    \n",
    "    for x,y,w,h in box:\n",
    "        cv2.rectangle(image,(x,y),(x+w,y+h),(0,255,0),6) #TOP LEFT CORNER AND BOTTOM RIGHT CORNER OF THE FACE\n",
    "    \n",
    "    return image"
   ]
  },
  {
   "cell_type": "code",
   "execution_count": 4,
   "id": "5e37ac63-2107-48a1-a0af-a3d58b935f69",
   "metadata": {},
   "outputs": [
    {
     "ename": "AttributeError",
     "evalue": "'cv2.VideoCapture' object has no attribute 'destroyAllWindows'",
     "output_type": "error",
     "traceback": [
      "\u001b[31m---------------------------------------------------------------------------\u001b[39m",
      "\u001b[31mAttributeError\u001b[39m                            Traceback (most recent call last)",
      "\u001b[36mCell\u001b[39m\u001b[36m \u001b[39m\u001b[32mIn[4]\u001b[39m\u001b[32m, line 12\u001b[39m\n\u001b[32m      9\u001b[39m         \u001b[38;5;28;01mbreak\u001b[39;00m \n\u001b[32m     11\u001b[39m cap.release()\n\u001b[32m---> \u001b[39m\u001b[32m12\u001b[39m \u001b[43mcap\u001b[49m\u001b[43m.\u001b[49m\u001b[43mdestroyAllWindows\u001b[49m()\n",
      "\u001b[31mAttributeError\u001b[39m: 'cv2.VideoCapture' object has no attribute 'destroyAllWindows'"
     ]
    }
   ],
   "source": [
    "cap = cv2.VideoCapture(0) \n",
    "while True:\n",
    "    ret, frame = cap.read() \n",
    "    if ret == False:\n",
    "        break\n",
    "    img_detect = face_detection(frame)\n",
    "    cv2.imshow('real time face detection', img_detect)\n",
    "    if cv2.waitKey(1) == ord('q'):\n",
    "        break \n",
    "\n",
    "cap.release()\n",
    "cap.destroyAllWindows()"
   ]
  },
  {
   "cell_type": "markdown",
   "id": "4cdc5808-cb8b-467b-8dcb-6cd162fbe915",
   "metadata": {},
   "source": [
    "### Sample Detection Image\n",
    "\n",
    "![Detected Face](face_sample.png)\n"
   ]
  },
  {
   "cell_type": "code",
   "execution_count": null,
   "id": "c69c3bb2-2039-495b-8aa1-58f7bee52062",
   "metadata": {},
   "outputs": [],
   "source": []
  }
 ],
 "metadata": {
  "kernelspec": {
   "display_name": "Python 3 (ipykernel)",
   "language": "python",
   "name": "python3"
  },
  "language_info": {
   "codemirror_mode": {
    "name": "ipython",
    "version": 3
   },
   "file_extension": ".py",
   "mimetype": "text/x-python",
   "name": "python",
   "nbconvert_exporter": "python",
   "pygments_lexer": "ipython3",
   "version": "3.13.3"
  }
 },
 "nbformat": 4,
 "nbformat_minor": 5
}
